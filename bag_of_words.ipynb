{
 "cells": [
  {
   "cell_type": "code",
   "execution_count": 210,
   "metadata": {},
   "outputs": [
    {
     "name": "stdout",
     "output_type": "stream",
     "text": [
      "140\n"
     ]
    }
   ],
   "source": [
    "from vocab import vocab\n",
    "#vocab = {'distance','temporary','romeo','fight','self','comedy', 'abide' ,'love', 'persustence' , 'hate', 'world', 'tragedy', 'fool', 'cry', 'hold', 'good', 'dream', 'joy', 'desire', 'sustain', 'arrogance', 'abuse', 'vile', 'asleep', 'warrior', 'perfect', 'death', 'lord', 'heart', 'juliet', 'cry', 'heaven', 'hell'}\n",
    "print(len(vocab))"
   ]
  },
  {
   "cell_type": "code",
   "execution_count": 211,
   "metadata": {},
   "outputs": [],
   "source": [
    "from sklearn.model_selection import train_test_split"
   ]
  },
  {
   "cell_type": "code",
   "execution_count": 212,
   "metadata": {},
   "outputs": [
    {
     "data": {
      "text/plain": [
       "True"
      ]
     },
     "execution_count": 212,
     "metadata": {},
     "output_type": "execute_result"
    }
   ],
   "source": [
    "'love' in vocab"
   ]
  },
  {
   "cell_type": "code",
   "execution_count": 213,
   "metadata": {},
   "outputs": [],
   "source": [
    "from matplotlib import pyplot as plt\n",
    "from sklearn.cluster import KMeans\n",
    "import numpy as np\n",
    "import pandas as pd"
   ]
  },
  {
   "cell_type": "code",
   "execution_count": 214,
   "metadata": {},
   "outputs": [
    {
     "data": {
      "text/html": [
       "<div>\n",
       "<style scoped>\n",
       "    .dataframe tbody tr th:only-of-type {\n",
       "        vertical-align: middle;\n",
       "    }\n",
       "\n",
       "    .dataframe tbody tr th {\n",
       "        vertical-align: top;\n",
       "    }\n",
       "\n",
       "    .dataframe thead th {\n",
       "        text-align: right;\n",
       "    }\n",
       "</style>\n",
       "<table border=\"1\" class=\"dataframe\">\n",
       "  <thead>\n",
       "    <tr style=\"text-align: right;\">\n",
       "      <th></th>\n",
       "      <th>0</th>\n",
       "    </tr>\n",
       "  </thead>\n",
       "  <tbody>\n",
       "    <tr>\n",
       "      <th>0</th>\n",
       "      <td>dream</td>\n",
       "    </tr>\n",
       "    <tr>\n",
       "      <th>1</th>\n",
       "      <td>pain</td>\n",
       "    </tr>\n",
       "    <tr>\n",
       "      <th>2</th>\n",
       "      <td>believe</td>\n",
       "    </tr>\n",
       "    <tr>\n",
       "      <th>3</th>\n",
       "      <td>hate</td>\n",
       "    </tr>\n",
       "    <tr>\n",
       "      <th>4</th>\n",
       "      <td>mortal</td>\n",
       "    </tr>\n",
       "    <tr>\n",
       "      <th>...</th>\n",
       "      <td>...</td>\n",
       "    </tr>\n",
       "    <tr>\n",
       "      <th>135</th>\n",
       "      <td>way</td>\n",
       "    </tr>\n",
       "    <tr>\n",
       "      <th>136</th>\n",
       "      <td>asleep</td>\n",
       "    </tr>\n",
       "    <tr>\n",
       "      <th>137</th>\n",
       "      <td>still</td>\n",
       "    </tr>\n",
       "    <tr>\n",
       "      <th>138</th>\n",
       "      <td>chinese</td>\n",
       "    </tr>\n",
       "    <tr>\n",
       "      <th>139</th>\n",
       "      <td>fight</td>\n",
       "    </tr>\n",
       "  </tbody>\n",
       "</table>\n",
       "<p>140 rows × 1 columns</p>\n",
       "</div>"
      ],
      "text/plain": [
       "           0\n",
       "0      dream\n",
       "1       pain\n",
       "2    believe\n",
       "3       hate\n",
       "4     mortal\n",
       "..       ...\n",
       "135      way\n",
       "136   asleep\n",
       "137    still\n",
       "138  chinese\n",
       "139    fight\n",
       "\n",
       "[140 rows x 1 columns]"
      ]
     },
     "execution_count": 214,
     "metadata": {},
     "output_type": "execute_result"
    }
   ],
   "source": [
    "nr = 11\n",
    "nc = len(vocab)\n",
    "df= pd.DataFrame(data= vocab)\n",
    "df"
   ]
  },
  {
   "cell_type": "code",
   "execution_count": 215,
   "metadata": {},
   "outputs": [],
   "source": [
    "\n",
    "# Curate data\n",
    "matrix1 = []\n",
    "matrix2 = []\n",
    "matrix3 = []\n",
    "# X = f.readline()\n",
    "dtype = 'uint8'\n",
    "bag = list(vocab)\n",
    "\n",
    "with open('love-quotes.txt') as openfileobject:\n",
    "    for line in openfileobject:\n",
    "        vec = np.zeros(nc, dtype=dtype)\n",
    "        for word in line.split():\n",
    "            if word in vocab:\n",
    "                index = bag.index(word)\n",
    "                vec[index] = 1\n",
    "        matrix1.append(vec)\n",
    "    df2 = pd.DataFrame(data = matrix1)\n",
    "\n",
    "with open('tragedy-quotes.txt') as openfileobject:\n",
    "    for line in openfileobject:\n",
    "        vec = np.zeros(nc, dtype=dtype)\n",
    "        for word in line.split():\n",
    "            if word in vocab:\n",
    "                index = bag.index(word)\n",
    "                vec[index] = 1\n",
    "        matrix2.append(vec)\n",
    "    df3 = pd.DataFrame(data = matrix2)\n",
    "    # df2.join(pd.DataFrame(data = matrix2))\n",
    "\n",
    "\n",
    "with open('comedy-quotes.txt') as openfileobject:\n",
    "    for line in openfileobject:\n",
    "        vec = np.zeros(nc, dtype=dtype)\n",
    "        for word in line.split():\n",
    "            if word in vocab:\n",
    "                index = bag.index(word)\n",
    "                vec[index] = 1\n",
    "        matrix3.append(vec)\n",
    "    df4 = pd.DataFrame(data = matrix3)\n"
   ]
  },
  {
   "cell_type": "code",
   "execution_count": 216,
   "metadata": {},
   "outputs": [],
   "source": [
    "\n",
    "X_train1 = df2.to_numpy(dtype=dtype)\n",
    "y_train1 = np.zeros(10, dtype=dtype)\n",
    "\n",
    "X_train1, X_test1, y_train1, y_test1 = train_test_split(X_train1,y_train1,test_size=0.4,random_state=0)\n",
    "\n",
    "X_train2 = df3.to_numpy(dtype=dtype)\n",
    "y_train2 = np.ones(10, dtype=dtype)\n",
    "\n",
    "X_train2, X_test2, y_train2, y_test2 = train_test_split(X_train2,y_train2,test_size=0.4,random_state=0)\n",
    "\n",
    "X_train3 = df4.to_numpy(dtype=dtype)\n",
    "y_train3 = np.full((10),2, dtype=dtype)\n",
    "\n",
    "X_train3, X_test3, y_train3, y_test3 = train_test_split(X_train3,y_train3,test_size=0.4,random_state=0)"
   ]
  },
  {
   "cell_type": "code",
   "execution_count": 217,
   "metadata": {},
   "outputs": [],
   "source": [
    "\n",
    "x_train_new = np.concatenate((X_train1,X_train2,X_train3),axis = 0)\n",
    "y_train_new = np.concatenate((y_train1,y_train2,y_train3))\n",
    "\n",
    "x_test_new = np.concatenate((X_test1,X_test2,X_test3),axis = 0)\n",
    "y_test_new = np.concatenate((y_test1,y_test2,y_test3))\n"
   ]
  },
  {
   "cell_type": "code",
   "execution_count": 218,
   "metadata": {},
   "outputs": [
    {
     "name": "stdout",
     "output_type": "stream",
     "text": [
      "K nearest neighbour accuracy:  0.25\n"
     ]
    }
   ],
   "source": [
    "# K nearest Neighbours \n",
    "from sklearn.neighbors import KNeighborsClassifier\n",
    "knn_clf = KNeighborsClassifier(n_neighbors=3)\n",
    "knn_clf.fit(x_train_new,y_train_new)\n",
    "knn_score = knn_clf.score(x_test_new,y_test_new)\n",
    "print(\"K nearest neighbour accuracy: \", knn_score)"
   ]
  },
  {
   "cell_type": "code",
   "execution_count": 219,
   "metadata": {},
   "outputs": [
    {
     "name": "stdout",
     "output_type": "stream",
     "text": [
      "Logistic Regression accuracy:  0.4166666666666667\n"
     ]
    }
   ],
   "source": [
    "# Logistic regression\n",
    "from sklearn.linear_model import LogisticRegression\n",
    "lr_clf = LogisticRegression()\n",
    "lr_clf.fit(x_train_new, y_train_new)\n",
    "lr_score = lr_clf.score(x_test_new,y_test_new)\n",
    "print(\"Logistic Regression accuracy: \", lr_score)"
   ]
  },
  {
   "cell_type": "code",
   "execution_count": 220,
   "metadata": {},
   "outputs": [
    {
     "name": "stdout",
     "output_type": "stream",
     "text": [
      "Decision Tree accuracy:  0.9166666666666666\n"
     ]
    }
   ],
   "source": [
    "from sklearn.tree import DecisionTreeClassifier as decision_tree\n",
    "clf = decision_tree(random_state=0)\n",
    "clf.fit(x_test_new,y_test_new)\n",
    "dt_score = clf.score(x_test_new, y_test_new)\n",
    "print(\"Decision Tree accuracy: \", dt_score)"
   ]
  },
  {
   "cell_type": "code",
   "execution_count": 221,
   "metadata": {},
   "outputs": [
    {
     "name": "stdout",
     "output_type": "stream",
     "text": [
      "Support Vector machine accuracy:  0.8333333333333334\n"
     ]
    }
   ],
   "source": [
    "# Support vector machine\n",
    "from sklearn.svm import SVC\n",
    "sv_clf = SVC(probability=True,kernel='linear')\n",
    "sv_clf.fit(x_test_new,y_test_new)\n",
    "svm_score = sv_clf.score(x_test_new, y_test_new)\n",
    "print(\"Support Vector machine accuracy: \",svm_score)"
   ]
  },
  {
   "cell_type": "code",
   "execution_count": 223,
   "metadata": {},
   "outputs": [
    {
     "data": {
      "text/plain": [
       "[<matplotlib.lines.Line2D at 0x294a62700>]"
      ]
     },
     "execution_count": 223,
     "metadata": {},
     "output_type": "execute_result"
    },
    {
     "data": {
      "image/png": "[encoded data removed]",
      "text/plain": [
       "<Figure size 432x288 with 1 Axes>"
      ]
     },
     "metadata": {
      "needs_background": "light"
     },
     "output_type": "display_data"
    }
   ],
   "source": [
    "res = [knn_score, lr_score, svm_score, dt_score]\n",
    "plt.plot([\"KNN\", \"LR\", \"SVM\", \"DT\"], res )"
   ]
  }
 ],
 "metadata": {
  "kernelspec": {
   "display_name": "Python 3.9 (tensorflow)",
   "language": "python",
   "name": "base"
  },
  "language_info": {
   "codemirror_mode": {
    "name": "ipython",
    "version": 3
   },
   "file_extension": ".py",
   "mimetype": "text/x-python",
   "name": "python",
   "nbconvert_exporter": "python",
   "pygments_lexer": "ipython3",
   "version": "3.9.12"
  },
  "orig_nbformat": 4,
  "vscode": {
   "interpreter": {
    "hash": "31f2aee4e71d21fbe5cf8b01ff0e069b9275f58929596ceb00d14d90e3e16cd6"
   }
  }
 },
 "nbformat": 4,
 "nbformat_minor": 2
}
