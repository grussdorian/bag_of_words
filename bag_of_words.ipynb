{
 "cells": [
  {
   "cell_type": "code",
   "execution_count": 76,
   "metadata": {},
   "outputs": [
    {
     "name": "stdout",
     "output_type": "stream",
     "text": [
      "140\n"
     ]
    }
   ],
   "source": [
    "import re\n",
    "import nltk\n",
    "from nltk.corpus import wordnet\n",
    "from nltk.stem import WordNetLemmatizer\n",
    "from nltk.corpus import stopwords\n",
    "from nltk.tokenize import word_tokenize, sent_tokenize\n",
    "stop_words = set(stopwords.words('english'))\n",
    "lemmatizer = WordNetLemmatizer()\n",
    "from vocab import vocab\n",
    "from vocab import get_wordnet_pos\n",
    "#vocab = {'distance','temporary','romeo','fight','self','comedy', 'abide' ,'love', 'persustence' , 'hate', 'world', 'tragedy', 'fool', 'cry', 'hold', 'good', 'dream', 'joy', 'desire', 'sustain', 'arrogance', 'abuse', 'vile', 'asleep', 'warrior', 'perfect', 'death', 'lord', 'heart', 'juliet', 'cry', 'heaven', 'hell'}\n",
    "print(len(vocab))"
   ]
  },
  {
   "cell_type": "code",
   "execution_count": 77,
   "metadata": {},
   "outputs": [],
   "source": [
    "import seaborn as sb"
   ]
  },
  {
   "cell_type": "code",
   "execution_count": 78,
   "metadata": {},
   "outputs": [],
   "source": [
    "from sklearn.model_selection import train_test_split"
   ]
  },
  {
   "cell_type": "code",
   "execution_count": 79,
   "metadata": {},
   "outputs": [
    {
     "data": {
      "text/plain": [
       "True"
      ]
     },
     "execution_count": 79,
     "metadata": {},
     "output_type": "execute_result"
    }
   ],
   "source": [
    "'love' in vocab"
   ]
  },
  {
   "cell_type": "code",
   "execution_count": 80,
   "metadata": {},
   "outputs": [],
   "source": [
    "from matplotlib import pyplot as plt\n",
    "from sklearn.cluster import KMeans\n",
    "import numpy as np\n",
    "import pandas as pd"
   ]
  },
  {
   "cell_type": "code",
   "execution_count": 81,
   "metadata": {},
   "outputs": [
    {
     "data": {
      "text/html": [
       "<div>\n",
       "<style scoped>\n",
       "    .dataframe tbody tr th:only-of-type {\n",
       "        vertical-align: middle;\n",
       "    }\n",
       "\n",
       "    .dataframe tbody tr th {\n",
       "        vertical-align: top;\n",
       "    }\n",
       "\n",
       "    .dataframe thead th {\n",
       "        text-align: right;\n",
       "    }\n",
       "</style>\n",
       "<table border=\"1\" class=\"dataframe\">\n",
       "  <thead>\n",
       "    <tr style=\"text-align: right;\">\n",
       "      <th></th>\n",
       "      <th>0</th>\n",
       "    </tr>\n",
       "  </thead>\n",
       "  <tbody>\n",
       "    <tr>\n",
       "      <th>0</th>\n",
       "      <td>distance</td>\n",
       "    </tr>\n",
       "    <tr>\n",
       "      <th>1</th>\n",
       "      <td>separate</td>\n",
       "    </tr>\n",
       "    <tr>\n",
       "      <th>2</th>\n",
       "      <td>lord</td>\n",
       "    </tr>\n",
       "    <tr>\n",
       "      <th>3</th>\n",
       "      <td>hundred</td>\n",
       "    </tr>\n",
       "    <tr>\n",
       "      <th>4</th>\n",
       "      <td>gain</td>\n",
       "    </tr>\n",
       "    <tr>\n",
       "      <th>...</th>\n",
       "      <td>...</td>\n",
       "    </tr>\n",
       "    <tr>\n",
       "      <th>135</th>\n",
       "      <td>accuse</td>\n",
       "    </tr>\n",
       "    <tr>\n",
       "      <th>136</th>\n",
       "      <td>bush</td>\n",
       "    </tr>\n",
       "    <tr>\n",
       "      <th>137</th>\n",
       "      <td>woe</td>\n",
       "    </tr>\n",
       "    <tr>\n",
       "      <th>138</th>\n",
       "      <td>fall</td>\n",
       "    </tr>\n",
       "    <tr>\n",
       "      <th>139</th>\n",
       "      <td>comedy</td>\n",
       "    </tr>\n",
       "  </tbody>\n",
       "</table>\n",
       "<p>140 rows × 1 columns</p>\n",
       "</div>"
      ],
      "text/plain": [
       "            0\n",
       "0    distance\n",
       "1    separate\n",
       "2        lord\n",
       "3     hundred\n",
       "4        gain\n",
       "..        ...\n",
       "135    accuse\n",
       "136      bush\n",
       "137       woe\n",
       "138      fall\n",
       "139    comedy\n",
       "\n",
       "[140 rows x 1 columns]"
      ]
     },
     "execution_count": 81,
     "metadata": {},
     "output_type": "execute_result"
    }
   ],
   "source": [
    "nr = 11\n",
    "nc = len(vocab)\n",
    "df= pd.DataFrame(data= vocab)\n",
    "df"
   ]
  },
  {
   "cell_type": "code",
   "execution_count": 82,
   "metadata": {},
   "outputs": [],
   "source": [
    "\n",
    "# Curate data\n",
    "matrix1 = []\n",
    "matrix2 = []\n",
    "matrix3 = []\n",
    "# X = f.readline()\n",
    "dtype = 'bool'\n",
    "bag = list(vocab)\n",
    "counter = 0\n",
    "with open('love-quotes.txt') as openfileobject:\n",
    "    for line in openfileobject:\n",
    "        vec = np.zeros(nc, dtype=dtype)\n",
    "        \n",
    "        line = line.lower()\n",
    "        sent = re.sub('[\\W_]+', ' ', line)\n",
    "        wordsList = nltk.word_tokenize(sent)\n",
    "        wordsList = [w for w in wordsList if not w in stop_words]\n",
    "        tagged = nltk.pos_tag(wordsList)\n",
    "\n",
    "        for word in tagged:\n",
    "            try:\n",
    "                tag = get_wordnet_pos(word[1])\n",
    "                if tag != None:\n",
    "                    final_word =  lemmatizer.lemmatize(word[0], pos = tag )\n",
    "                    #print(final_word)\n",
    "                    if final_word in vocab:\n",
    "                        counter = counter+1\n",
    "                        index = bag.index(final_word)\n",
    "                        vec[index] = 1\n",
    "                # print(vec)\n",
    "            except:\n",
    "                print(\"word not found: \", word[0], word[1])\n",
    "        # print(np.count_nonzero(vec == 1))\n",
    "        matrix1.append(vec)\n",
    "    df2 = pd.DataFrame(data = matrix1)\n",
    "\n",
    "with open('tragedy-quotes.txt') as openfileobject:\n",
    "    for line in openfileobject:\n",
    "        vec = np.zeros(nc, dtype=dtype)\n",
    "\n",
    "        line = line.lower()\n",
    "        sent = re.sub('[\\W_]+', ' ', line)\n",
    "        wordsList = nltk.word_tokenize(sent)\n",
    "        wordsList = [w for w in wordsList if not w in stop_words]\n",
    "        tagged = nltk.pos_tag(wordsList)\n",
    "\n",
    "        for word in tagged:\n",
    "            try:\n",
    "                tag = get_wordnet_pos(word[1])\n",
    "                if tag != None:\n",
    "                    final_word =  lemmatizer.lemmatize(word[0], pos = tag ) \n",
    "                    #print(final_word)   \n",
    "                    if final_word in vocab:\n",
    "                        counter = counter+1\n",
    "                        index = bag.index(final_word)\n",
    "                        vec[index] = 1\n",
    "                # print(vec)\n",
    "            except:\n",
    "                print(\"word not found: \", word[0], word[1])\n",
    "        # print(np.count_nonzero(vec == 1))\n",
    "        matrix2.append(vec)\n",
    "    df3 = pd.DataFrame(data = matrix2)\n",
    "    # df2.join(pd.DataFrame(data = matrix2))\n",
    "\n",
    "\n",
    "with open('comedy-quotes.txt') as openfileobject:\n",
    "    for line in openfileobject:\n",
    "        vec = np.zeros(nc, dtype=dtype)\n",
    "\n",
    "        line = line.lower()\n",
    "        sent = re.sub('[\\W_]+', ' ', line)\n",
    "        wordsList = nltk.word_tokenize(sent)\n",
    "        wordsList = [w for w in wordsList if not w in stop_words]\n",
    "        tagged = nltk.pos_tag(wordsList)\n",
    "\n",
    "        for word in tagged:\n",
    "            try:\n",
    "                tag = get_wordnet_pos(word[1])\n",
    "                if tag != None:\n",
    "                    final_word =  lemmatizer.lemmatize(word[0], pos = tag )  \n",
    "                    #print(final_word)  \n",
    "                    if final_word in vocab:\n",
    "                        counter = counter+1\n",
    "                        index = bag.index(final_word)\n",
    "                        vec[index] = 1\n",
    "                # print(vec)\n",
    "            except:\n",
    "                print(\"word not found: \", word[0], word[1])\n",
    "        # print(np.count_nonzero(vec == 1))\n",
    "        matrix3.append(vec)\n",
    "    df4 = pd.DataFrame(data = matrix3)\n"
   ]
  },
  {
   "cell_type": "code",
   "execution_count": 83,
   "metadata": {},
   "outputs": [
    {
     "name": "stdout",
     "output_type": "stream",
     "text": [
      "dummy\n",
      "1      2      3      4      5      6      7      8      9     10     11     12     13     14     15     16     17     18     19     20     21     22     23     24     25     26     27     28     29     30     31     32     33     34     35     36     37     38     39     40    41     42    43     44     45     46     47     48     49     50     51    52     53     54     55    56     57     58     59     60     61     62     63     64     65     66     67     68     69     70     71     72     73     74     75     76     77     78     79     80     81     82     83    84     85     86     87     88     89     90     91     92     93    94     95    96     97     98     99     100    101    102    103    104    105    106    107    108    109    110    111    112    113    114    115    116    117    118   119    120    121    122    123    124    125    126   127    128    129    130    131    132   133    134    135    136    137    138    139  \n",
      "False  False  False  False  False  False  False  False  True  False  False  False  False  False  False  False  False  False  False  False  False  False  False  False  False  False  False  False  False  False  False  False  False  False  False  False  False  False  False  True  False  True  False  False  False  False  False  False  False  False  True  False  False  False  True  False  False  False  False  False  False  False  False  False  False  False  False  False  False  False  False  False  False  False  False  False  False  False  False  False  False  False  True  False  False  False  False  False  False  False  False  False  True  False  True  False  False  False  False  False  False  False  False  False  False  False  False  False  False  False  False  False  False  False  False  False  False  True  False  False  False  False  False  False  False  True  False  False  False  False  False  True  False  False  False  False  False  False  False    1\n",
      "dtype: int64\n"
     ]
    },
    {
     "data": {
      "text/plain": [
       "<AxesSubplot:>"
      ]
     },
     "execution_count": 83,
     "metadata": {},
     "output_type": "execute_result"
    },
    {
     "data": {
      "image/png": "[encoded data removed]",
      "text/plain": [
       "<Figure size 432x288 with 2 Axes>"
      ]
     },
     "metadata": {
      "needs_background": "light"
     },
     "output_type": "display_data"
    }
   ],
   "source": [
    "# print(counter)\n",
    "print(\"dummy\")\n",
    "print(df2.value_counts()[1])\n",
    "sb.heatmap(df2.isna())"
   ]
  },
  {
   "cell_type": "code",
   "execution_count": 84,
   "metadata": {},
   "outputs": [],
   "source": [
    "\n",
    "X_train1 = df2.to_numpy(dtype=dtype)\n",
    "y_train1 = np.zeros(10, dtype=dtype)\n",
    "\n",
    "X_train1, X_test1, y_train1, y_test1 = train_test_split(X_train1,y_train1,test_size=0.4,random_state=0)\n",
    "\n",
    "X_train2 = df3.to_numpy(dtype=dtype)\n",
    "y_train2 = np.ones(10, dtype=dtype)\n",
    "\n",
    "X_train2, X_test2, y_train2, y_test2 = train_test_split(X_train2,y_train2,test_size=0.4,random_state=0)\n",
    "\n",
    "X_train3 = df4.to_numpy(dtype=dtype)\n",
    "y_train3 = np.full((10),2, dtype=dtype)\n",
    "\n",
    "X_train3, X_test3, y_train3, y_test3 = train_test_split(X_train3,y_train3,test_size=0.4,random_state=0)"
   ]
  },
  {
   "cell_type": "code",
   "execution_count": 85,
   "metadata": {},
   "outputs": [],
   "source": [
    "\n",
    "x_train_new = np.concatenate((X_train1,X_train2,X_train3),axis = 0)\n",
    "y_train_new = np.concatenate((y_train1,y_train2,y_train3))\n",
    "\n",
    "x_test_new = np.concatenate((X_test1,X_test2,X_test3),axis = 0)\n",
    "y_test_new = np.concatenate((y_test1,y_test2,y_test3))\n"
   ]
  },
  {
   "cell_type": "code",
   "execution_count": 86,
   "metadata": {},
   "outputs": [
    {
     "name": "stdout",
     "output_type": "stream",
     "text": [
      "K nearest neighbour accuracy:  0.5833333333333334\n"
     ]
    }
   ],
   "source": [
    "# K nearest Neighbours \n",
    "from sklearn.neighbors import KNeighborsClassifier\n",
    "knn_clf = KNeighborsClassifier(n_neighbors=3)\n",
    "knn_clf.fit(x_train_new,y_train_new)\n",
    "knn_score = knn_clf.score(x_test_new,y_test_new)\n",
    "print(\"K nearest neighbour accuracy: \", knn_score)"
   ]
  },
  {
   "cell_type": "code",
   "execution_count": 87,
   "metadata": {},
   "outputs": [
    {
     "name": "stdout",
     "output_type": "stream",
     "text": [
      "Logistic Regression accuracy:  0.8333333333333334\n"
     ]
    }
   ],
   "source": [
    "# Logistic regression\n",
    "from sklearn.linear_model import LogisticRegression\n",
    "lr_clf = LogisticRegression()\n",
    "lr_clf.fit(x_train_new, y_train_new)\n",
    "lr_score = lr_clf.score(x_test_new,y_test_new)\n",
    "print(\"Logistic Regression accuracy: \", lr_score)"
   ]
  },
  {
   "cell_type": "code",
   "execution_count": 88,
   "metadata": {},
   "outputs": [
    {
     "name": "stdout",
     "output_type": "stream",
     "text": [
      "Decision Tree accuracy:  0.8333333333333334\n"
     ]
    }
   ],
   "source": [
    "from sklearn.tree import DecisionTreeClassifier as decision_tree\n",
    "clf = decision_tree(random_state=0)\n",
    "clf.fit(x_train_new,y_train_new)\n",
    "dt_score = clf.score(x_test_new, y_test_new)\n",
    "print(\"Decision Tree accuracy: \", dt_score)"
   ]
  },
  {
   "cell_type": "code",
   "execution_count": 89,
   "metadata": {},
   "outputs": [
    {
     "name": "stdout",
     "output_type": "stream",
     "text": [
      "Support Vector machine accuracy:  0.8333333333333334\n"
     ]
    }
   ],
   "source": [
    "# Support vector machine\n",
    "from sklearn.svm import SVC\n",
    "sv_clf = SVC(probability=True,kernel='linear')\n",
    "sv_clf.fit(x_train_new,y_train_new)\n",
    "svm_score = sv_clf.score(x_test_new, y_test_new)\n",
    "print(\"Support Vector machine accuracy: \",svm_score)"
   ]
  },
  {
   "cell_type": "code",
   "execution_count": 90,
   "metadata": {},
   "outputs": [
    {
     "data": {
      "text/plain": [
       "[<matplotlib.lines.Line2D at 0x1778a2bb0>]"
      ]
     },
     "execution_count": 90,
     "metadata": {},
     "output_type": "execute_result"
    },
    {
     "data": {
      "image/png": "[encoded data removed]",
      "text/plain": [
       "<Figure size 432x288 with 1 Axes>"
      ]
     },
     "metadata": {
      "needs_background": "light"
     },
     "output_type": "display_data"
    }
   ],
   "source": [
    "res = [knn_score, lr_score, svm_score, dt_score]\n",
    "plt.plot([\"KNN\", \"LR\", \"SVM\", \"DT\"], res )"
   ]
  }
 ],
 "metadata": {
  "kernelspec": {
   "display_name": "Python 3.9 (tensorflow)",
   "language": "python",
   "name": "base"
  },
  "language_info": {
   "codemirror_mode": {
    "name": "ipython",
    "version": 3
   },
   "file_extension": ".py",
   "mimetype": "text/x-python",
   "name": "python",
   "nbconvert_exporter": "python",
   "pygments_lexer": "ipython3",
   "version": "3.9.12"
  },
  "orig_nbformat": 4,
  "vscode": {
   "interpreter": {
    "hash": "31f2aee4e71d21fbe5cf8b01ff0e069b9275f58929596ceb00d14d90e3e16cd6"
   }
  }
 },
 "nbformat": 4,
 "nbformat_minor": 2
}
