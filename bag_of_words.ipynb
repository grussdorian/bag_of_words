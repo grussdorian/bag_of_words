{
 "cells": [
  {
   "cell_type": "code",
   "execution_count": 9,
   "metadata": {},
   "outputs": [
    {
     "name": "stdout",
     "output_type": "stream",
     "text": [
      "140\n"
     ]
    }
   ],
   "source": [
    "from vocab import vocab\n",
    "print(len(vocab))"
   ]
  },
  {
   "cell_type": "code",
   "execution_count": 11,
   "metadata": {},
   "outputs": [
    {
     "data": {
      "text/plain": [
       "True"
      ]
     },
     "execution_count": 11,
     "metadata": {},
     "output_type": "execute_result"
    }
   ],
   "source": [
    "'hate' in vocab"
   ]
  },
  {
   "cell_type": "code",
   "execution_count": 2,
   "metadata": {},
   "outputs": [],
   "source": [
    "from matplotlib import pyplot as plt\n",
    "from sklearn.cluster import KMeans"
   ]
  },
  {
   "cell_type": "code",
   "execution_count": null,
   "metadata": {},
   "outputs": [],
   "source": [
    "matrix = []\n",
    "f = open(\"love-quotes.txt\", \"r\")\n",
    "g = open(\"tragedy-quotes.txt\", \"r\")\n",
    "h = open(\"comedy-quotes.txt\", \"r\")\n",
    "\n",
    "for _ in range(0,5):\n",
    "    test = f.readline()\n",
    "    vec = [0 for i in range(len(vocab))]\n",
    "    bag = list(vocab)\n",
    "\n",
    "    for word in test.split():\n",
    "        if word in vocab:\n",
    "            index = bag.index(word)\n",
    "            vec[index] = 1\n",
    "\n",
    "    data = list(zip(vec, 0))\n",
    "\n",
    "    test = g.readline()\n",
    "    vec = [0 for i in range(len(vocab))]\n",
    "\n",
    "\n",
    "    for word in test.split():\n",
    "        if word in vocab:\n",
    "            index = bag.index(word)\n",
    "            vec[index] = 1\n",
    "\n",
    "    # data = list(zip(vec, 1))\n",
    "\n",
    "    \n",
    "\n",
    "    \n",
    "\n",
    "\n",
    "    "
   ]
  },
  {
   "cell_type": "code",
   "execution_count": null,
   "metadata": {},
   "outputs": [],
   "source": [
    "# inertias = []\n",
    "# kmeans = KMeans(n_clusters=2)\n",
    "# kmeans.fit([ ([1,2,3],2), ([2,1,3],3), ([2,3,4],4), ([1,4,2],5) ])\n",
    "# inertias.append(kmeans.inertia_)\n",
    "#x = kmeans.predict([[1.5,2.5],[1.5,2.5]])\n",
    "# print(x)"
   ]
  },
  {
   "cell_type": "code",
   "execution_count": null,
   "metadata": {},
   "outputs": [],
   "source": [
    "\n",
    "# plt.plot(range(1,11), inertias, marker='o')\n",
    "# plt.title('Elbow method')\n",
    "# plt.xlabel('Number of clusters')\n",
    "# plt.ylabel('Inertia')\n",
    "# plt.show()"
   ]
  }
 ],
 "metadata": {
  "kernelspec": {
   "display_name": "Python 3.9 (tensorflow)",
   "language": "python",
   "name": "base"
  },
  "language_info": {
   "codemirror_mode": {
    "name": "ipython",
    "version": 3
   },
   "file_extension": ".py",
   "mimetype": "text/x-python",
   "name": "python",
   "nbconvert_exporter": "python",
   "pygments_lexer": "ipython3",
   "version": "3.9.12"
  },
  "orig_nbformat": 4,
  "vscode": {
   "interpreter": {
    "hash": "31f2aee4e71d21fbe5cf8b01ff0e069b9275f58929596ceb00d14d90e3e16cd6"
   }
  }
 },
 "nbformat": 4,
 "nbformat_minor": 2
}
