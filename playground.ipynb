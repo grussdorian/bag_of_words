{
 "cells": [
  {
   "cell_type": "code",
   "execution_count": 55,
   "metadata": {},
   "outputs": [],
   "source": [
    "import nltk\n",
    "from nltk.corpus import wordnet"
   ]
  },
  {
   "cell_type": "code",
   "execution_count": 30,
   "metadata": {},
   "outputs": [
    {
     "name": "stderr",
     "output_type": "stream",
     "text": [
      "[nltk_data] Downloading package averaged_perceptron_tagger to\n",
      "[nltk_data]     /Users/hardik/nltk_data...\n",
      "[nltk_data]   Unzipping taggers/averaged_perceptron_tagger.zip.\n"
     ]
    },
    {
     "data": {
      "text/plain": [
       "True"
      ]
     },
     "execution_count": 30,
     "metadata": {},
     "output_type": "execute_result"
    }
   ],
   "source": [
    "nltk.download('averaged_perceptron_tagger')"
   ]
  },
  {
   "cell_type": "code",
   "execution_count": 75,
   "metadata": {},
   "outputs": [
    {
     "name": "stdout",
     "output_type": "stream",
     "text": [
      "Sukanya Rajib and Naba are my good friends Sukanya is getting married next year married is a big step in one s life It is both exciting and frightening But friendship is a sacred bond between people It is a special kind of love between us Many of you must have tried searching for a friend but never found the right one I would Never find Running away from them\n"
     ]
    }
   ],
   "source": [
    "# import these modules\n",
    "import re\n",
    "from nltk.stem import WordNetLemmatizer\n",
    "from nltk.corpus import stopwords\n",
    "from nltk.tokenize import word_tokenize, sent_tokenize\n",
    "stop_words = set(stopwords.words('english'))\n",
    "\n",
    "sent = \"Sukanya, Rajib and Naba are my good friends. \" \\\n",
    "    \"Sukanya is getting married next year. \" \\\n",
    "    \"married! is a big step in one's life.\" \\\n",
    "    \"It is both exciting and$ frightening. \" \\\n",
    "    \"But friendship @is a sacred bond between people.\" \\\n",
    "    \"It is a special; kind. of love between. us. \" \\\n",
    "    \"Many of you must have tried searching for a friend \"\\\n",
    "    \"but never found the right one.\"\\\n",
    "    \"I would Never find.\"\\\n",
    "    \"Running away from them\"\n",
    "sent = re.sub('[\\W_]+', ' ', sent)\n",
    "print(sent)"
   ]
  },
  {
   "cell_type": "code",
   "execution_count": null,
   "metadata": {},
   "outputs": [],
   "source": [
    "def get_wordnet_pos(treebank_tag):\n",
    "    if treebank_tag.startswith('J'):\n",
    "        return wordnet.ADJ\n",
    "    elif treebank_tag.startswith('V'):\n",
    "        return wordnet.VERB\n",
    "    elif treebank_tag.startswith('N'):\n",
    "        return wordnet.NOUN\n",
    "    elif treebank_tag.startswith('R'):\n",
    "        return wordnet.ADV\n",
    "    else:\n",
    "        return None"
   ]
  },
  {
   "cell_type": "code",
   "execution_count": 77,
   "metadata": {},
   "outputs": [
    {
     "name": "stdout",
     "output_type": "stream",
     "text": [
      "word:  Sukanya | root : Sukanya\n",
      "word:  Rajib | root : Rajib\n",
      "word:  Naba | root : Naba\n",
      "word:  good | root : good\n",
      "word:  friends | root : friend\n",
      "word:  Sukanya | root : Sukanya\n",
      "word:  getting | root : get\n",
      "word:  married | root : marry\n",
      "word:  next | root : next\n",
      "word:  year | root : year\n",
      "word:  married | root : marry\n",
      "word:  big | root : big\n",
      "word:  step | root : step\n",
      "('one', 'CD')  not found\n",
      "word:  life | root : life\n",
      "('It', 'PRP')  not found\n",
      "word:  exciting | root : excite\n",
      "word:  frightening | root : frighten\n",
      "('But', 'CC')  not found\n",
      "word:  friendship | root : friendship\n",
      "word:  sacred | root : sacred\n",
      "word:  bond | root : bond\n",
      "word:  people | root : people\n",
      "('It', 'PRP')  not found\n",
      "word:  special | root : special\n",
      "word:  kind | root : kind\n",
      "word:  love | root : love\n",
      "('us', 'PRP')  not found\n",
      "word:  Many | root : Many\n",
      "('must', 'MD')  not found\n",
      "word:  tried | root : try\n",
      "word:  searching | root : search\n",
      "word:  friend | root : friend\n",
      "word:  never | root : never\n",
      "word:  found | root : find\n",
      "word:  right | root : right\n",
      "('one', 'CD')  not found\n",
      "('I', 'PRP')  not found\n",
      "('would', 'MD')  not found\n",
      "word:  Never | root : Never\n",
      "word:  find | root : find\n",
      "word:  Running | root : Running\n",
      "word:  away | root : away\n"
     ]
    }
   ],
   "source": [
    "\n",
    "tokenized = sent_tokenize(sent)\n",
    "lemmatizer = WordNetLemmatizer()\n",
    "for i in tokenized:\n",
    "     \n",
    "    # Word tokenizers is used to find the words\n",
    "    # and punctuation in a string\n",
    "    wordsList = nltk.word_tokenize(i)\n",
    "    # removing stop words from wordList\n",
    "\n",
    "    wordsList = [w for w in wordsList if not w in stop_words]\n",
    " \n",
    "    #  Using a Tagger. Which is part-of-speech\n",
    "    # tagger or POS-tagger.\n",
    "    tagged = nltk.pos_tag(wordsList)\n",
    "    for word in tagged:\n",
    "        try:\n",
    "            print(\"word: \", word[0], \"| root :\", lemmatizer.lemmatize(word[0], pos = get_wordnet_pos(word[1]) ))\n",
    "        except:\n",
    "            print(word, \" not found\")\n",
    "        #print(word)\n",
    "    #print(tagged)\n",
    "\n",
    "# for word in sent2:\n",
    "#     try:\n",
    "#         word = (re.sub('[\\W_]+', '', word))\n",
    "#         tokenized = word_tokenize(word)\n",
    "#         print(tokenized)\n",
    "#     except Exception as error:\n",
    "#         print(\"error \", error)\n",
    "\n",
    "# for word in sent:\n",
    "#     print(lemmatizer.lemmatize(word))\n",
    "#print(\"corpora :\", lemmatizer.lemmatize(\"corpora\"))\n",
    "  \n",
    "# a denotes adjective in \"pos\"\n"
   ]
  },
  {
   "cell_type": "code",
   "execution_count": 79,
   "metadata": {},
   "outputs": [
    {
     "name": "stdout",
     "output_type": "stream",
     "text": [
      "{'ridiculously', 'precieved', 'van', 'adam', 'bad', 'detail', 'level', 'join', 'silent', 'fear', 'cry', 'great', 'contradiction', 'small', 'saran', 'superfluous', 'cue', 'airhead', 'let', 'blank', 'heat', 'humor', 'slap', 'culinary', 'animal', 'carves', 'halfway', 'do', 'sign', 'santa', 'enough', 'marquis', 'weirdness', 'teenaged', 'mutually', 'general', 'introduce', 'confusing', 'completely', 'understand', 'negro', 'introspective', 'flatter', 'shaundelle', 'okay', 'rabbit', 'compulsively', 'pamela', 'attention', 'witness', 'fall', 'finger', 'wall', 'weird', 'shook', 'roommate', 'courage', 'old', 'slash', 'horrible', 'ugly', 'somehow', 'slimmin', 'car', 'draw', 'confidence', 'men', 'tale', 'battle', 'ankh', 'trace', 'fire', 'bottomless', 'pierce', 'etiquette', 'death', 'engage', 'comic', 'chicken', 'hi', 'wearin', 'conditioner', 'endure', 'jealous', 'rule', 'trick', 'incredulity', 'coffee', 'run', 'ocean', 'exquisite', 'investment', 'begin', 'perfect', 'thinkin', 'bjork', 'degree', 'hold', 'christian', 'light', 'remedy', 'thigh', 'thing', 'recognize', 'twenty', 'recede', 'dy', 'pin', 'daily', 'decided', 'knockin', 'speck', 'drop', 'extensive', 'book', 'nothing', 'ordinary', 'assassinate', 'detachment', 'empathy', 'deserve', 'birth', 'asshole', 'shampoo', 'external', 'inspiration', 'wit', 'anymore', 'action', 'criticize', 'self', 'art', 'noticeable', 'terrible', 'beauty', 'thee', 'also', 'unoriginal', 'single', 'definitely', 'offer', 'quixote', 'touch', 'tonight', 'u', 'incapable', 'scuff', 'loving', 'comedy', 'burning', 'case', 'early', 'refrigerator', 'pimp', 'revelation', 'vedremo', 'scream', 'girl', 'ultimate', 'joy', 'high', 'ancient', 'gain', 'fifteen', 'survive', 'reprehensible', 'irony', 'put', 'poet', 'rest', 'hop', 'vastness', 'replenish', 'divide', 'individual', 'robin', 'father', 'statistic', 'laid', 'couple', 'pleasure', 'provide', 'important', 'store', 'away', 'understands', 'expect', 'curable', 'often', 'irrational', 'grievance', 'source', 'unbreakable', 'musical', 'privacy', 'wait', 'snowflake', 'community', 'enemy', 'irresistible', 'elderberry', 'operation', 'tragic', 'rude', 'step', 'chappelle', 'development', 'youer', 'ready', 'weariness', 'heaven', 'gentleman', 'short', 'like', 'dollar', 'patient', 'disobedience', 'pattern', 'close', 'nature', 'den', 'falsely', 'bearable', 'spank', 'binary', 'honey', 'puke', 'decide', 'burn', 'guide', 'woe', 'surround', 'account', 'orphan', 'effaces', 'lock', 'hide', 'dissolution', 'irredeemable', 'secretly', 'nonviolence', 'write', 'second', 'hand', 'earth', 'public', 'commonplace', 'job', 'whore', 'river', 'create', 'golfer', 'ridiculous', 'atom', 'many', 'snail', 'count', 'celebrates', 'never', 'temple', 'romeo', 'speak', 'control', 'neighbor', 'particular', 'boy', 'soon', 'suppose', 'really', 'red', 'lonely', 'faithless', 'famous', 'intact', 'hill', 'swatter', 'click', 'think', 'enjoyed', 'orgy', 'happy', 'wed', 'volt', 'south', 'rain', 'greedy', 'cared', 'crack', 'license', 'delivery', 'popcorn', 'obstacle', 'alike', 'moon', 'forever', 'pretty', 'truth', 'effect', 'lord', 'king', 'mab', 'footstep', 'davenport', 'apologize', 'notion', 'beckons', 'illusion', 'inkling', 'teacher', 'recover', 'present', 'wreck', 'fix', 'smelt', 'enters', 'boastful', 'appliance', 'waste', 'blizzard', 'draft', 'empty', 'grimmer', 'ember', 'misrepresentation', 'insanity', 'particularly', 'ozone', 'heavy', 'dust', 'curly', 'humbug', 'excuse', 'difficult', 'likely', 'ice', 'gaze', 'dialogue', 'march', 'complicated', 'abuse', 'perfectly', 'tuesday', 'rank', 'scatter', 'boat', 'insulate', 'include', 'confuse', 'crawl', 'fight', 'call', 'sewer', 'minority', 'trembled', 'ecstasy', 'holocaust', 'wisdom', 'mentally', 'decent', 'avoid', 'see', 'tell', 'else', 'dempsey', 'afternoon', 'haze', 'child', 'astronaut', 'care', 'matter', 'american', 'dismemberment', 'blueberry', 'destroy', 'noise', 'mountain', 'honest', 'metal', 'humanity', 'reason', 'sacrifice', 'food', 'bible', 'speech', 'bastard', 'cold', 'fate', 'exceed', 'gott', 'frightening', 'gay', 'play', 'inside', 'destiny', 'get', 'pregnant', 'drama', 'plethora', 'stuck', 'ill', 'prayer', 'moment', 'alive', 'marrying', 'bullet', 'inn', 'history', 'narrow', 'sparkle', 'lying', 'suffers', 'tarnishings', 'minute', 'whale', 'bandana', 'hang', 'raider', 'wilt', 'masturbate', 'half', 'cackle', 'shine', 'knowledge', 'time', 'realize', 'hurt', 'travail', 'divine', 'condom', 'entertainment', 'drive', 'terribly', 'sleep', 'sound', 'noun', 'fuck', 'brain', 'caesar', 'funeral', 'presence', 'economy', 'pride', 'enter', 'entire', 'tragedy', 'road', 'grandiose', 'dressed', 'ninety', 'grief', 'dessert', 'group', 'share', 'fashion', 'comparison', 'talk', 'fry', 'simple', 'life', 'mercy', 'blindness', 'universe', 'agree', 'asleep', 'become', 'first', 'haha', 'bother', 'hat', 'bolt', 'colin', 'edge', 'free', 'crush', 'careless', 'hole', 'fell', 'oscar', 'attitude', 'hook', 'leaf', 'behave', 'biiiit', 'force', 'envy', 'infectious', 'people', 'purse', 'poverty', 'know', 'cocoon', 'motionless', 'ash', 'cured', 'try', 'offense', 'party', 'constantly', 'need', 'others', 'situation', 'kid', 'float', 'spirit', 'maybe', 'harm', 'mate', 'ideal', 'temptation', 'flavour', 'bright', 'shadow', 'philosophy', 'shock', 'helen', 'judge', 'hear', 'fred', 'appreciate', 'lucky', 'take', 'totally', 'oh', 'endzone', 'deeper', 'major', 'opposite', 'definition', 'love', 'adventure', 'message', 'arm', 'final', 'tatiana', 'punish', 'drug', 'place', 'search', 'sometimes', 'face', 'quite', 'sight', 'compatible', 'teach', 'shakespeare', 'fit', 'different', 'shitty', 'sake', 'buff', 'left', 'fly', 'ending', 'difference', 'blow', 'gray', 'sieve', 'condition', 'forget', 'jack', 'consciously', 'miss', 'numbness', 'shape', 'anyway', 'kind', 'awesome', 'live', 'break', 'rhyme', 'morning', 'reviewer', 'flow', 'spontaneously', 'anyone', 'bear', 'derail', 'petite', 'consequence', 'spellbind', 'host', 'winter', 'question', 'big', 'veil', 'satire', 'dick', 'police', 'day', 'course', 'accomplish', 'chew', 'software', 'blond', 'oberon', 'strength', 'anything', 'truly', 'building', 'emotion', 'creates', 'walnut', 'professor', 'upside', 'marriage', 'listener', 'creativity', 'skull', 'upset', 'damn', 'sorry', 'tap', 'luxury', 'smoke', 'discover', 'large', 'woman', 'almost', 'locksmith', 'deity', 'scare', 'pryor', 'cushion', 'mon', 'loyal', 'homo', 'lose', 'invite', 'traitor', 'power', 'nerve', 'resentful', 'town', 'performs', 'identify', 'return', 'slender', 'cream', 'color', 'everyone', 'save', 'reconcile', 'invincible', 'leave', 'follow', 'occasion', 'untamed', 'horror', 'forgive', 'length', 'body', 'rat', 'diet', 'thought', 'response', 'end', 'delight', 'eventually', 'portion', 'pour', 'awaits', 'mistake', 'validation', 'truer', 'tendency', 'ask', 'throb', 'non', 'less', 'lessen', 'spatula', 'order', 'emblem', 'pull', 'helpless', 'sigh', 'filler', 'witty', 'raw', 'amusement', 'cop', 'accuse', 'protect', 'stop', 'butterworth', 'pornography', 'trouble', 'bore', 'nonie', 'path', 'soften', 'marvel', 'chinese', 'dress', 'enslaves', 'stunt', 'attainable', 'mystery', 'foreigner', 'whole', 'robot', 'punch', 'rise', 'collect', 'barbarian', 'withering', 'son', 'quiet', 'somebody', 'imaginary', 'hope', 'categorize', 'satisfy', 'assassinated', 'truest', 'aspire', 'heartbeat', 'ambition', 'persistence', 'keep', 'train', 'tip', 'hamilton', 'allow', 'stay', 'list', 'uh', 'drown', 'chemical', 'shit', 'essential', 'satisfaction', 'look', 'overly', 'claw', 'head', 'map', 'late', 'home', 'error', 'ghost', 'wither', 'last', 'conceited', 'prove', 'cross', 'prophet', 'finally', 'ponder', 'laugh', 'something', 'check', 'scroll', 'guy', 'complete', 'sunny', 'hunter', 'pretend', 'glassy', 'flew', 'evolution', 'hobby', 'reconnect', 'baby', 'soul', 'idea', 'polio', 'straight', 'sunshine', 'died', 'bottom', 'war', 'vaginal', 'reply', 'stand', 'blood', 'church', 'chest', 'instead', 'bet', 'arts', 'em', 'equal', 'sometime', 'midst', 'refresh', 'expression', 'nod', 'quickly', 'puzzled', 'shut', 'even', 'hate', 'golden', 'beg', 'vulnerable', 'fezzo', 'truesdale', 'news', 'understanding', 'plant', 'rock', 'dave', 'innocence', 'expansion', 'sea', 'notice', 'lip', 'radio', 'tie', 'hemorrhoidal', 'organize', 'peas', 'eric', 'forgets', 'find', 'awful', 'learn', 'bury', 'scary', 'temporary', 'compulsion', 'belong', 'view', 'wish', 'economic', 'shoulder', 'wonderful', 'tax', 'broken', 'carolina', 'today', 'accordingly', 'well', 'unveil', 'mess', 'distance', 'rapper', 'sounder', 'majesty', 'dear', 'angelo', 'confer', 'skate', 'cup', 'saint', 'morpork', 'talent', 'android', 'choose', 'wild', 'justice', 'use', 'goddamn', 'hundred', 'dis', 'irresistibly', 'sharply', 'alcohol', 'proclaim', 'show', 'deficient', 'policeman', 'youre', 'turn', 'depth', 'bush', 'young', 'impose', 'prince', 'utterly', 'invader', 'funny', 'exist', 'germany', 'tall', 'cause', 'foundation', 'america', 'existence', 'adult', 'around', 'lear', 'farce', 'pursue', 'relationship', 'beautiful', 'plague', 'walk', 'thankfully', 'warm', 'volunteer', 'lot', 'flaw', 'linger', 'want', 'someday', 'ruin', 'profundity', 'form', 'confused', 'dead', 'deeply', 'confound', 'entirely', 'make', 'pick', 'abide', 'unconscious', 'burden', 'sin', 'separate', 'meant', 'louse', 'awakens', 'sadness', 'ridden', 'encourage', 'male', 'gon', 'grace', 'suddenly', 'memory', 'northman', 'consist', 'hamburger', 'hit', 'yesterday', 'line', 'black', 'fretfully', 'colonel', 'open', 'overtake', 'choice', 'yield', 'smooth', 'yeah', 'buts', 'madman', 'sun', 'special', 'fireman', 'mysterious', 'potential', 'compound', 'bee', 'myth', 'fabric', 'however', 'water', 'city', 'molecule', 'hail', 'test', 'neglect', 'mine', 'past', 'reciprocate', 'simply', 'denial', 'deliberate', 'popularity', 'bring', 'goddamned', 'hair', 'shepherd', 'originate', 'citizen', 'literally', 'responsible', 'charisma', 'pea', 'period', 'character', 'roughest', 'sapiens', 'drunkard', 'ever', 'believe', 'richard', 'seriously', 'revolution', 'easily', 'add', 'sing', 'mother', 'sainsbury', 'trust', 'street', 'north', 'goodness', 'forgetting', 'gravitation', 'carry', 'waterworks', 'bomb', 'way', 'ta', 'spend', 'none', 'liar', 'emma', 'necessity', 'thoughtfully', 'harmless', 'nose', 'deed', 'anybody', 'mad', 'bewail', 'jesus', 'real', 'hot', 'distraught', 'god', 'irish', 'lab', 'petal', 'best', 'continually', 'strong', 'bloom', 'happen', 'island', 'vile', 'plagiarism', 'magician', 'slowly', 'saw', 'everlost', 'ray', 'spin', 'episode', 'climb', 'thank', 'wrap', 'wound', 'commonsense', 'laughter', 'week', 'proper', 'imply', 'swiss', 'still', 'skim', 'relate', 'grow', 'apart', 'fruit', 'stupid', 'breed', 'ahead', 'dull', 'friendship', 'raise', 'mirror', 'absolutely', 'graffiti', 'man', 'groove', 'easy', 'eating', 'full', 'balance', 'neurotic', 'serve', 'excellent', 'salesman', 'cake', 'earnest', 'satirize', 'echo', 'pancake', 'sophie', 'master', 'height', 'sick', 'naked', 'intuition', 'mud', 'goodfellow', 'f', 'sort', 'depressed', 'unseelie', 'murderer', 'repair', 'stone', 'name', 'wiper', 'willing', 'squint', 'pass', 'hoh', 'friend', 'realization', 'seem', 'x', 'attributable', 'drowned', 'fill', 'hello', 'jumpy', 'nobody', 'market', 'opportunity', 'reach', 'act', 'cheney', 'whey', 'tammy', 'ride', 'sense', 'eat', 'clearly', 'unknowingly', 'performance', 'selfish', 'actually', 'next', 'journey', 'bone', 'fayetteville', 'ground', 'family', 'send', 'planet', 'sell', 'defense', 'eater', 'shame', 'spun', 'teal', 'plan', 'possible', 'good', 'clock', 'behind', 'listen', 'middle', 'wedding', 'bodee', 'shoot', 'heap', 'movie', 'grind', 'feel', 'magic', 'hero', 'living', 'always', 'affair', 'mixed', 'madness', 'board', 'work', 'dance', 'crazy', 'start', 'dietin', 'hatred', 'buddy', 'sit', 'summer', 'buy', 'knee', 'imprison', 'reed', 'moisturizer', 'enrich', 'glamorous', 'paperwork', 'chance', 'technically', 'blatantly', 'yeovil', 'reckless', 'feeling', 'wind', 'steal', 'everyday', 'exhaust', 'idiot', 'month', 'new', 'version', 'comedian', 'luke', 'juliet', 'die', 'boheme', 'true', 'intimate', 'beneath', 'annihilate', 'long', 'coffin', 'arrogance', 'read', 'sexual', 'bitch', 'sustain', 'side', 'cattle', 'greek', 'stick', 'pod', 'shatter', 'structure', 'monkey', 'folk', 'gravestone', 'business', 'country', 'merciless', 'inexhaustible', 'bell', 'donne', 'wrung', 'service', 'driver', 'envelop', 'queen', 'possibly', 'little', 'jog', 'deny', 'rocket', 'bewilderment', 'meghan', 'strike', 'fake', 'boil', 'regard', 'door', 'crooked', 'dream', 'word', 'possibility', 'burst', 'sudden', 'de', 'frivolity', 'hamster', 'curvy', 'powerful', 'consider', 'restaurant', 'carefully', 'fluff', 'attachment', 'lady', 'modern', 'personal', 'feeds', 'round', 'dawn', 'cascade', 'security', 'unique', 'remain', 'intend', 'deep', 'exists', 'princess', 'afterward', 'casket', 'absurdity', 'boom', 'rightness', 'foot', 'yolo', 'pay', 'notwithstanding', 'page', 'wake', 'meet', 'design', 'eye', 'loki', 'thirty', 'purpose', 'blue', 'come', 'yell', 'serious', 'reverence', 'crook', 'third', 'smoking', 'air', 'worry', 'human', 'eternity', 'lover', 'research', 'bank', 'guess', 'tangle', 'event', 'bleed', 'emphasize', 'yet', 'feature', 'sublime', 'fairy', 'glamour', 'factor', 'year', 'perhaps', 'state', 'weep', 'advertisement', 'holiday', 'annoy', 'someone', 'star', 'fascinating', 'kill', 'peace', 'inspection', 'lifetime', 'hardly', 'occur', 'part', 'strive', 'majestic', 'entanglement', 'inner', 'certain', 'airless', 'together', 'rake', 'please', 'affection', 'waltz', 'sanity', 'lift', 'punishment', 'chaos', 'weight', 'fart', 'give', 'story', 'flash', 'fine', 'cut', 'tomorrow', 'ah', 'deathbed', 'marry', 'creature', 'climate', 'seth', 'problem', 'lie', 'back', 'atheist', 'drink', 'music', 'already', 'experience', 'depression', 'footsteps', 'direction', 'backache', 'rather', 'lassu', 'characteristic', 'wan', 'leettle', 'pressure', 'reject', 'facade', 'betrayal', 'ifs', 'fun', 'scorn', 'illness', 'resignation', 'finite', 'extent', 'night', 'plain', 'watch', 'stage', 'justly', 'june', 'darkness', 'significant', 'meted', 'define', 'romance', 'mean', 'strange', 'treat', 'cavern', 'bungle', 'knowingly', 'universal', 'purify', 'mortal', 'butchered', 'coward', 'awareness', 'welcome', 'succulent', 'disintegration', 'sky', 'alone', 'waitress', 'transcendence', 'lovely', 'madly', 'bottle', 'warrior', 'cease', 'dat', 'laser', 'breadth', 'record', 'spending', 'reality', 'flower', 'pi', 'limit', 'jagged', 'effort', 'skinny', 'scepter', 'right', 'hard', 'enjoy', 'crafty', 'everybody', 'wrong', 'scene', 'horse', 'substitute', 'ci', 'rationalize', 'remember', 'explanation', 'point', 'least', 'tree', 'terror', 'lem', 'tried', 'joked', 'develop', 'awake', 'whack', 'dark', 'knew', 'bitchin', 'kiss', 'surprise', 'breath', 'world', 'mayhem', 'bitterly', 'heart', 'natural', 'hell', 'accidentally', 'lack', 'attack', 'perform', 'go', 'bed', 'expense', 'worthwhile', 'command', 'throw', 'surrender', 'fool', 'officer', 'house', 'ache', 'odd', 'gift', 'repetitive', 'lesson', 'curse', 'lead', 'finish', 'help', 'sure', 'snowflakes', 'hijack', 'ripple', 'military', 'beat', 'fuel', 'cheat', 'storm', 'therein', 'pleasant', 'bless', 'injustice', 'derange', 'pain', 'person', 'wear', 'listens', 'shot', 'gulch', 'ear', 'luck', 'happiness', 'everything', 'felt', 'white', 'pas', 'purple', 'window', 'loneliness', 'worth', 'nympho', 'room', 'crucifixion', 'uniform', 'liege', 'candle', 'safe', 'meaning', 'shop', 'unconditionally', 'compassion', 'age', 'france', 'bloody', 'schoolteacher', 'frederick', 'ignore', 'anywhere', 'attempt', 'aoan', 'thin', 'mind', 'kitchen', 'ha', 'excite', 'say', 'powder', 'member', 'change', 'obscure', 'desire', 'loss', 'selfishness', 'swear', 'layer', 'baron', 'impenetrable', 'much', 'contemptible', 'hour', 'brave', 'platonic', 'disaster', 'strawberry', 'disobedient', 'slaughterhouse', 'assume', 'cornered', 'buffet', 'heard', 'lick', 'kindness', 'tranquility'}\n"
     ]
    }
   ],
   "source": [
    "from vocab import vocab\n",
    "print(vocab)\n"
   ]
  }
 ],
 "metadata": {
  "kernelspec": {
   "display_name": "Python 3.9 (tensorflow)",
   "language": "python",
   "name": "base"
  },
  "language_info": {
   "codemirror_mode": {
    "name": "ipython",
    "version": 3
   },
   "file_extension": ".py",
   "mimetype": "text/x-python",
   "name": "python",
   "nbconvert_exporter": "python",
   "pygments_lexer": "ipython3",
   "version": "3.9.12"
  },
  "orig_nbformat": 4,
  "vscode": {
   "interpreter": {
    "hash": "31f2aee4e71d21fbe5cf8b01ff0e069b9275f58929596ceb00d14d90e3e16cd6"
   }
  }
 },
 "nbformat": 4,
 "nbformat_minor": 2
}
